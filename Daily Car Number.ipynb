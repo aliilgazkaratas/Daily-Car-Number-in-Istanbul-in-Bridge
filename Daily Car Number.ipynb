{
 "cells": [
  {
   "cell_type": "code",
   "execution_count": 44,
   "id": "6f9c77f8",
   "metadata": {},
   "outputs": [
    {
     "name": "stdout",
     "output_type": "stream",
     "text": [
      "   Dates(1.01.2021-30.11.2021)  Sum of Passing Cars    n of Dizel  \\\n",
      "0                          Oca            564191191  2.132643e+08   \n",
      "1                          Şub            468118399  1.769488e+08   \n",
      "2                          Mar            738498228  2.791523e+08   \n",
      "3                          Nis            396710104  1.499564e+08   \n",
      "4                          May            380382420  1.437846e+08   \n",
      "5                          Haz            484768994  1.832427e+08   \n",
      "6                          Tem            460339859  1.740085e+08   \n",
      "7                          Ağu            637451494  2.409567e+08   \n",
      "8                          Eyl            636565123  2.406216e+08   \n",
      "9                          Eki            593763053  2.244424e+08   \n",
      "10                         Kas            548514468  2.073385e+08   \n",
      "11                 Grand Total           5909303333  2.233717e+09   \n",
      "\n",
      "    n of Gasoline   Without LPG  \n",
      "0    1.427404e+08  3.605182e+08  \n",
      "1    1.184340e+08  2.991277e+08  \n",
      "2    1.868401e+08  4.719004e+08  \n",
      "3    1.003677e+08  2.534978e+08  \n",
      "4    9.623675e+07  2.430644e+08  \n",
      "5    1.226466e+08  3.097674e+08  \n",
      "6    1.164660e+08  2.941572e+08  \n",
      "7    1.612752e+08  4.073315e+08  \n",
      "8    1.610510e+08  4.067651e+08  \n",
      "9    1.502221e+08  3.794146e+08  \n",
      "10   1.387742e+08  3.505007e+08  \n",
      "11   1.495054e+09  3.776045e+09  \n",
      "   AVERAGE OF EACH MONTH  Benzin  Motorin\n",
      "0                January   7.180    6.580\n",
      "1               February   7.210    6.600\n",
      "2                  March   7.130    6.500\n",
      "3                  April   7.070    6.430\n",
      "4                    May   7.300    6.746\n",
      "5                   June   7.720    7.200\n",
      "6                   July   7.740    7.220\n",
      "7                 August   7.740    7.250\n",
      "8              September   7.750    7.260\n",
      "9                October   8.087    7.893\n",
      "10              November   8.846    8.911\n"
     ]
    }
   ],
   "source": [
    "import pandas as pd\n",
    "\n",
    "df1 = pd.read_excel(r\"C:\\Users\\ilgaz\\OneDrive\\Masaüstü\\Daily Car Number\\gunluk-arac-saym.xlsx\")\n",
    "df2 = pd.read_excel(r\"C:\\Users\\ilgaz\\OneDrive\\Masaüstü\\Daily Car Number\\akaryakıt.xlsx\")\n",
    "print(df1)\n",
    "print(df2)"
   ]
  },
  {
   "cell_type": "code",
   "execution_count": 45,
   "id": "53f57bb4",
   "metadata": {},
   "outputs": [
    {
     "name": "stdout",
     "output_type": "stream",
     "text": [
      "0     1.427404e+08\n",
      "1     1.184340e+08\n",
      "2     1.868401e+08\n",
      "3     1.003677e+08\n",
      "4     9.623675e+07\n",
      "5     1.226466e+08\n",
      "6     1.164660e+08\n",
      "7     1.612752e+08\n",
      "8     1.610510e+08\n",
      "9     1.502221e+08\n",
      "10    1.387742e+08\n",
      "Name: n of Gasoline, dtype: float64\n"
     ]
    }
   ],
   "source": [
    "gaso = df1.loc[0:10,\"n of Gasoline\"]\n",
    "print(gaso)"
   ]
  },
  {
   "cell_type": "code",
   "execution_count": 46,
   "id": "353bf311",
   "metadata": {},
   "outputs": [
    {
     "name": "stdout",
     "output_type": "stream",
     "text": [
      "0     7.180\n",
      "1     7.210\n",
      "2     7.130\n",
      "3     7.070\n",
      "4     7.300\n",
      "5     7.720\n",
      "6     7.740\n",
      "7     7.740\n",
      "8     7.750\n",
      "9     8.087\n",
      "10    8.846\n",
      "Name: Benzin, dtype: float64\n"
     ]
    }
   ],
   "source": [
    "prices_4_gaso=df2.loc[0:10,\"Benzin\"]\n",
    "print(prices_4_gaso)"
   ]
  },
  {
   "cell_type": "code",
   "execution_count": 47,
   "id": "89cf42fa",
   "metadata": {},
   "outputs": [],
   "source": [
    "import matplotlib.pyplot as plt"
   ]
  },
  {
   "cell_type": "code",
   "execution_count": 51,
   "id": "a23c7dc8",
   "metadata": {},
   "outputs": [],
   "source": [
    "a=gaso.values.tolist()\n",
    "b=prices_4_gaso.values.tolist()"
   ]
  },
  {
   "cell_type": "code",
   "execution_count": 55,
   "id": "95cae553",
   "metadata": {},
   "outputs": [
    {
     "name": "stdout",
     "output_type": "stream",
     "text": [
      "[142740371.323, 118433954.94700001, 186840051.68400002, 100367656.312, 96236752.26, 122646555.48200001, 116465984.327, 161275227.982, 161050976.119, 150222052.409, 138774160.40399998] [7.179999999999999, 7.210000000000001, 7.13, 7.07, 7.3, 7.72, 7.74, 7.74, 7.75, 8.087, 8.846]\n"
     ]
    }
   ],
   "source": [
    "print(a,b)\n",
    "c = [\"Oca\",\"Şub\",\"Mar\",\"Nis\",\"May\",\"Haz\",\"Tem\",\"Ağu\",\"Eyl\",\"Eki\",\"Kas\"]\n"
   ]
  },
  {
   "cell_type": "code",
   "execution_count": 65,
   "id": "4a1aa793",
   "metadata": {},
   "outputs": [
    {
     "data": {
      "image/png": "[encoded data removed]",
      "text/plain": [
       "<Figure size 432x288 with 1 Axes>"
      ]
     },
     "metadata": {
      "needs_background": "light"
     },
     "output_type": "display_data"
    }
   ],
   "source": [
    "plt.plot(c,b, 'y-.', linewidth=3)\n",
    "plt.show()"
   ]
  },
  {
   "cell_type": "code",
   "execution_count": 66,
   "id": "68fa146c",
   "metadata": {},
   "outputs": [
    {
     "data": {
      "image/png": "[encoded data removed]",
      "text/plain": [
       "<Figure size 432x288 with 1 Axes>"
      ]
     },
     "metadata": {
      "needs_background": "light"
     },
     "output_type": "display_data"
    }
   ],
   "source": [
    "plt.plot(c,a, 'y-.', linewidth=3)\n",
    "plt.show()"
   ]
  },
  {
   "cell_type": "code",
   "execution_count": null,
   "id": "cf4db3af",
   "metadata": {},
   "outputs": [],
   "source": [
    "#As can be seen in graphs, after \"Ağu\" (August) prices are increased so that number of cars that passing from Bridge going down."
   ]
  }
 ],
 "metadata": {
  "kernelspec": {
   "display_name": "Python 3 (ipykernel)",
   "language": "python",
   "name": "python3"
  },
  "language_info": {
   "codemirror_mode": {
    "name": "ipython",
    "version": 3
   },
   "file_extension": ".py",
   "mimetype": "text/x-python",
   "name": "python",
   "nbconvert_exporter": "python",
   "pygments_lexer": "ipython3",
   "version": "3.9.12"
  }
 },
 "nbformat": 4,
 "nbformat_minor": 5
}
